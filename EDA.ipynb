{
 "cells": [
  {
   "cell_type": "code",
   "execution_count": 13,
   "id": "f4a4fe54-914d-4bda-ad55-17967ef525ec",
   "metadata": {},
   "outputs": [],
   "source": [
    "import polars as pl\n",
    "import matplotlib.pyplot as plt\n",
    "import networkx as nx\n",
    "from pyvis.network import Network"
   ]
  },
  {
   "cell_type": "code",
   "execution_count": 69,
   "id": "5af8faec-0515-41fd-a164-e009aadd43d9",
   "metadata": {},
   "outputs": [
    {
     "data": {
      "text/html": [
       "<div><style>\n",
       ".dataframe > thead > tr,\n",
       ".dataframe > tbody > tr {\n",
       "  text-align: right;\n",
       "  white-space: pre-wrap;\n",
       "}\n",
       "</style>\n",
       "<small>shape: (155, 2)</small><table border=\"1\" class=\"dataframe\"><thead><tr><th>challenge_play_id</th><th>challenge_on_id</th></tr><tr><td>i64</td><td>i64</td></tr></thead><tbody><tr><td>33</td><td>29</td></tr><tr><td>127</td><td>126</td></tr><tr><td>154</td><td>146</td></tr><tr><td>229</td><td>228</td></tr><tr><td>253</td><td>251</td></tr><tr><td>&hellip;</td><td>&hellip;</td></tr><tr><td>828</td><td>824</td></tr><tr><td>870</td><td>864</td></tr><tr><td>1002</td><td>1001</td></tr><tr><td>1156</td><td>1155</td></tr><tr><td>1175</td><td>1174</td></tr></tbody></table></div>"
      ],
      "text/plain": [
       "shape: (155, 2)\n",
       "┌───────────────────┬─────────────────┐\n",
       "│ challenge_play_id ┆ challenge_on_id │\n",
       "│ ---               ┆ ---             │\n",
       "│ i64               ┆ i64             │\n",
       "╞═══════════════════╪═════════════════╡\n",
       "│ 33                ┆ 29              │\n",
       "│ 127               ┆ 126             │\n",
       "│ 154               ┆ 146             │\n",
       "│ 229               ┆ 228             │\n",
       "│ 253               ┆ 251             │\n",
       "│ …                 ┆ …               │\n",
       "│ 828               ┆ 824             │\n",
       "│ 870               ┆ 864             │\n",
       "│ 1002              ┆ 1001            │\n",
       "│ 1156              ┆ 1155            │\n",
       "│ 1175              ┆ 1174            │\n",
       "└───────────────────┴─────────────────┘"
      ]
     },
     "execution_count": 69,
     "metadata": {},
     "output_type": "execute_result"
    }
   ],
   "source": [
    "challenge_df = pl.read_csv(\"./data/challenges.csv\").filter(pl.col(\"challenge_is_successful\") == True).select(['challenge_play_id', 'challenge_on_id']).unique()\n",
    "challenge_df"
   ]
  },
  {
   "cell_type": "code",
   "execution_count": 70,
   "id": "e125628b-d46d-4c17-bf5f-0247a7bf4c80",
   "metadata": {},
   "outputs": [
    {
     "data": {
      "text/html": [
       "<div><style>\n",
       ".dataframe > thead > tr,\n",
       ".dataframe > tbody > tr {\n",
       "  text-align: right;\n",
       "  white-space: pre-wrap;\n",
       "}\n",
       "</style>\n",
       "<small>shape: (1_202, 3)</small><table border=\"1\" class=\"dataframe\"><thead><tr><th>play_id</th><th>play_name</th><th>play_category</th></tr><tr><td>i64</td><td>str</td><td>str</td></tr></thead><tbody><tr><td>1</td><td>&quot;Donna Summer&quot;</td><td>&quot;Seasons&quot;</td></tr><tr><td>2</td><td>&quot;Richard E. Gra…</td><td>&quot;Verbs as surna…</td></tr><tr><td>3</td><td>&quot;Gary Lineker&quot;</td><td>&quot;Difficult to s…</td></tr><tr><td>4</td><td>&quot;Rod Hull&quot;</td><td>&quot;Long and thin …</td></tr><tr><td>5</td><td>&quot;Neil Armstrong…</td><td>&quot;Americans&quot;</td></tr><tr><td>&hellip;</td><td>&hellip;</td><td>&hellip;</td></tr><tr><td>1198</td><td>&quot;Eileen Drewery…</td><td>&quot;Shown with Eng…</td></tr><tr><td>1199</td><td>&quot;Kerem Topuz&quot;</td><td>&quot;Have met / are…</td></tr><tr><td>1200</td><td>&quot;June Sarpong&quot;</td><td>&quot;Forenames shor…</td></tr><tr><td>1201</td><td>&quot;Margaret Atwoo…</td><td>&quot;Been to Canada…</td></tr><tr><td>1202</td><td>&quot;Sylvia Plath&quot;</td><td>&quot;Initials in se…</td></tr></tbody></table></div>"
      ],
      "text/plain": [
       "shape: (1_202, 3)\n",
       "┌─────────┬──────────────────┬───────────────────────────────────┐\n",
       "│ play_id ┆ play_name        ┆ play_category                     │\n",
       "│ ---     ┆ ---              ┆ ---                               │\n",
       "│ i64     ┆ str              ┆ str                               │\n",
       "╞═════════╪══════════════════╪═══════════════════════════════════╡\n",
       "│ 1       ┆ Donna Summer     ┆ Seasons                           │\n",
       "│ 2       ┆ Richard E. Grant ┆ Verbs as surnames                 │\n",
       "│ 3       ┆ Gary Lineker     ┆ Difficult to spell surnames       │\n",
       "│ 4       ┆ Rod Hull         ┆ Long and thin names               │\n",
       "│ 5       ┆ Neil Armstrong   ┆ Americans                         │\n",
       "│ …       ┆ …                ┆ …                                 │\n",
       "│ 1198    ┆ Eileen Drewery   ┆ Shown with England player         │\n",
       "│ 1199    ┆ Kerem Topuz      ┆ Have met / are Mert Aksac         │\n",
       "│ 1200    ┆ June Sarpong     ┆ Forenames shorter than surname    │\n",
       "│ 1201    ┆ Margaret Atwood  ┆ Been to Canada                    │\n",
       "│ 1202    ┆ Sylvia Plath     ┆ Initials in second half of alpha… │\n",
       "└─────────┴──────────────────┴───────────────────────────────────┘"
      ]
     },
     "execution_count": 70,
     "metadata": {},
     "output_type": "execute_result"
    }
   ],
   "source": [
    "play_df = pl.read_csv(\"./data/plays.csv\", ignore_errors=True).select(['play_id','play_name','play_category'])\n",
    "play_df"
   ]
  },
  {
   "cell_type": "code",
   "execution_count": 72,
   "id": "3ae1a9e6-56f1-4044-8a30-f6c5b33360de",
   "metadata": {},
   "outputs": [
    {
     "data": {
      "text/html": [
       "<div><style>\n",
       ".dataframe > thead > tr,\n",
       ".dataframe > tbody > tr {\n",
       "  text-align: right;\n",
       "  white-space: pre-wrap;\n",
       "}\n",
       "</style>\n",
       "<small>shape: (155, 3)</small><table border=\"1\" class=\"dataframe\"><thead><tr><th>challenged_name</th><th>category_name</th><th>challenge_category</th></tr><tr><td>str</td><td>str</td><td>str</td></tr></thead><tbody><tr><td>&quot;Rob Lee&quot;</td><td>&quot;Steve Oram&quot;</td><td>&quot;Surnames conta…</td></tr><tr><td>&quot;Darth Vader&quot;</td><td>&quot;James Bond&quot;</td><td>&quot;People in film…</td></tr><tr><td>&quot;Steve Cram&quot;</td><td>&quot;Mark Watson&quot;</td><td>&quot;Left handers&quot;</td></tr><tr><td>&quot;Michaela Coel&quot;</td><td>&quot;Angela Merkel&quot;</td><td>&quot;Definite visit…</td></tr><tr><td>&quot;Clive James&quot;</td><td>&quot;Tim Key&quot;</td><td>&quot;Russian speake…</td></tr><tr><td>&hellip;</td><td>&hellip;</td><td>&hellip;</td></tr><tr><td>&quot;Carol Vorderma…</td><td>&quot;Noel Gallagher…</td><td>&quot;Christmas-rela…</td></tr><tr><td>&quot;Cherie Blair&quot;</td><td>&quot;Hamburglar&quot;</td><td>&quot;Appearances in…</td></tr><tr><td>&quot;Mike Bubbins&quot;</td><td>&quot;Hal Robson-Kan…</td><td>&quot;Shown in red s…</td></tr><tr><td>&quot;Sadio Mané&quot;</td><td>&quot;Mert Aksac&quot;</td><td>&quot;Initials share…</td></tr><tr><td>&quot;Judd Trump&quot;</td><td>&quot;Ryan Kent&quot;</td><td>&quot;Shown with kne…</td></tr></tbody></table></div>"
      ],
      "text/plain": [
       "shape: (155, 3)\n",
       "┌─────────────────┬─────────────────┬──────────────────────────────────┐\n",
       "│ challenged_name ┆ category_name   ┆ challenge_category               │\n",
       "│ ---             ┆ ---             ┆ ---                              │\n",
       "│ str             ┆ str             ┆ str                              │\n",
       "╞═════════════════╪═════════════════╪══════════════════════════════════╡\n",
       "│ Rob Lee         ┆ Steve Oram      ┆ Surnames containing another word │\n",
       "│ Darth Vader     ┆ James Bond      ┆ People in films                  │\n",
       "│ Steve Cram      ┆ Mark Watson     ┆ Left handers                     │\n",
       "│ Michaela Coel   ┆ Angela Merkel   ┆ Definite visitors to Germany     │\n",
       "│ Clive James     ┆ Tim Key         ┆ Russian speakers                 │\n",
       "│ …               ┆ …               ┆ …                                │\n",
       "│ Carol Vorderman ┆ Noel Gallagher  ┆ Christmas-related names          │\n",
       "│ Cherie Blair    ┆ Hamburglar      ┆ Appearances in adverts           │\n",
       "│ Mike Bubbins    ┆ Hal Robson-Kanu ┆ Shown in red shirt               │\n",
       "│ Sadio Mané      ┆ Mert Aksac      ┆ Initials shared by players       │\n",
       "│ Judd Trump      ┆ Ryan Kent       ┆ Shown with knees exposed         │\n",
       "└─────────────────┴─────────────────┴──────────────────────────────────┘"
      ]
     },
     "execution_count": 72,
     "metadata": {},
     "output_type": "execute_result"
    }
   ],
   "source": [
    "join_df = challenge_df.join(play_df, how=\"left\", left_on=\"challenge_play_id\", right_on=\"play_id\")\\\n",
    "                        .drop([\"challenge_play_id\", \"play_category\"])\\\n",
    "                        .rename({\"play_name\": \"challenged_name\"})\n",
    "\n",
    "join_df = join_df.join(play_df, how=\"left\", left_on=\"challenge_on_id\", right_on=\"play_id\")\\\n",
    "                    .rename({\"play_name\": \"category_name\", \"play_category\": \"challenge_category\"})\\\n",
    "                    .drop([\"challenge_on_id\"])\n",
    "\n",
    "join_df"
   ]
  },
  {
   "cell_type": "code",
   "execution_count": 73,
   "id": "d04a1f9a-8338-4f0c-b78e-678d301e7ef3",
   "metadata": {},
   "outputs": [
    {
     "name": "stdout",
     "output_type": "stream",
     "text": [
      "nx.html\n"
     ]
    }
   ],
   "source": [
    "df_pd = join_df#.to_pandas()\n",
    "\n",
    "nt = Network('1000px', '100%', directed=True, cdn_resources=\"in_line\")\n",
    "\n",
    "sources = df_pd[\"category_name\"]\n",
    "dests = df_pd[\"challenged_name\"]\n",
    "categories = df_pd[\"challenge_category\"]\n",
    "\n",
    "edges = zip(sources, dests, categories)\n",
    "\n",
    "for src, dst, cat in edges:\n",
    "    nt.add_node(src, color='#ACDBC9',borderWidth=0)\n",
    "    nt.add_node(dst, color='#ACDBC9',borderWidth=0)\n",
    "    nt.add_edge(src, to=dst, title=cat, arrows={\"to\": {\"enabled\": True}})\n",
    "\n",
    "\n",
    "nt.show('nx.html', notebook=False)"
   ]
  },
  {
   "cell_type": "code",
   "execution_count": null,
   "id": "6a6daa84-cd96-4bb9-a2eb-60a54ecd2ea7",
   "metadata": {},
   "outputs": [],
   "source": []
  }
 ],
 "metadata": {
  "kernelspec": {
   "display_name": "Python 3 (ipykernel)",
   "language": "python",
   "name": "python3"
  },
  "language_info": {
   "codemirror_mode": {
    "name": "ipython",
    "version": 3
   },
   "file_extension": ".py",
   "mimetype": "text/x-python",
   "name": "python",
   "nbconvert_exporter": "python",
   "pygments_lexer": "ipython3",
   "version": "3.11.8"
  }
 },
 "nbformat": 4,
 "nbformat_minor": 5
}
